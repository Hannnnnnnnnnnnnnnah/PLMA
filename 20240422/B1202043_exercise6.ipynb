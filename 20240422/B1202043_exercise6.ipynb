{
  "nbformat": 4,
  "nbformat_minor": 0,
  "metadata": {
    "colab": {
      "provenance": []
    },
    "kernelspec": {
      "name": "python3",
      "display_name": "Python 3"
    },
    "language_info": {
      "name": "python"
    }
  },
  "cells": [
    {
      "cell_type": "code",
      "execution_count": 18,
      "metadata": {
        "id": "x3GI1fq4o8tb",
        "colab": {
          "base_uri": "https://localhost:8080/"
        },
        "outputId": "69fd7785-e7d6-41b3-8e1b-a0041d0405c9"
      },
      "outputs": [
        {
          "output_type": "stream",
          "name": "stdout",
          "text": [
            "1 X 1 = 1  2 X 1 = 2  3 X 1 = 3  4 X 1 = 4  5 X 1 = 5  6 X 1 = 6  7 X 1 = 7  8 X 1 = 8  9 X 1 = 9  \n",
            "1 X 2 = 2  2 X 2 = 4  3 X 2 = 6  4 X 2 = 8  5 X 2 = 10 6 X 2 = 12 7 X 2 = 14 8 X 2 = 16 9 X 2 = 18 \n",
            "1 X 3 = 3  2 X 3 = 6  3 X 3 = 9  4 X 3 = 12 5 X 3 = 15 6 X 3 = 18 7 X 3 = 21 8 X 3 = 24 9 X 3 = 27 \n",
            "1 X 4 = 4  2 X 4 = 8  3 X 4 = 12 4 X 4 = 16 5 X 4 = 20 6 X 4 = 24 7 X 4 = 28 8 X 4 = 32 9 X 4 = 36 \n",
            "1 X 5 = 5  2 X 5 = 10 3 X 5 = 15 4 X 5 = 20 5 X 5 = 25 6 X 5 = 30 7 X 5 = 35 8 X 5 = 40 9 X 5 = 45 \n",
            "1 X 6 = 6  2 X 6 = 12 3 X 6 = 18 4 X 6 = 24 5 X 6 = 30 6 X 6 = 36 7 X 6 = 42 8 X 6 = 48 9 X 6 = 54 \n",
            "1 X 7 = 7  2 X 7 = 14 3 X 7 = 21 4 X 7 = 28 5 X 7 = 35 6 X 7 = 42 7 X 7 = 49 8 X 7 = 56 9 X 7 = 63 \n",
            "1 X 8 = 8  2 X 8 = 16 3 X 8 = 24 4 X 8 = 32 5 X 8 = 40 6 X 8 = 48 7 X 8 = 56 8 X 8 = 64 9 X 8 = 72 \n",
            "1 X 9 = 9  2 X 9 = 18 3 X 9 = 27 4 X 9 = 36 5 X 9 = 45 6 X 9 = 54 7 X 9 = 63 8 X 9 = 72 9 X 9 = 81 \n"
          ]
        }
      ],
      "source": [
        "a=1\n",
        "while a<=9:\n",
        "  b=1\n",
        "  while b<=9:\n",
        "    r=a*b\n",
        "    if r<10:\n",
        "      print(f\"{b} X {a} = {r}\",end='  ')\n",
        "    else:\n",
        "      print(f\"{b} X {a} = {r}\",end=' ')\n",
        "    b+=1\n",
        "  print()\n",
        "  a+=1"
      ]
    },
    {
      "cell_type": "code",
      "source": [
        "import random\n",
        "r=random.sample(range(1,10),4)\n",
        "print(r)\n",
        "\n",
        "a=b=n=0\n",
        "while a!=4:\n",
        "  a=b=n=0\n",
        "  g=list(input(\"請輸入四個數字(不會重複):\"))\n",
        "  if len(g)>4:\n",
        "    g=list(input(\"輸入數字過多<請輸入四個數字(不會重複:\"))\n",
        "  else:\n",
        "    g=g\n",
        "  for i in g:\n",
        "    if int(g[n])==r[n]:\n",
        "      a+=1\n",
        "    else:\n",
        "      if int(i)in r:\n",
        "        b+=1\n",
        "    n+=1\n",
        "  output=','.join(g).replace(',','')\n",
        "  print(f'{output}:{a}A{b}B')\n",
        "print(\"答對了!總共猜了\",n,\"次!\")"
      ],
      "metadata": {
        "colab": {
          "base_uri": "https://localhost:8080/"
        },
        "id": "VjnzKp6VsvVc",
        "outputId": "b0240130-65d5-4cc8-9c62-5ad722619a99"
      },
      "execution_count": 31,
      "outputs": [
        {
          "output_type": "stream",
          "name": "stdout",
          "text": [
            "[5, 7, 8, 9]\n",
            "請輸入四個數字(不會重複):12345\n",
            "輸入數字過多<請輸入四個數字(不會重複:7841\n",
            "7841:0A2B\n",
            "請輸入四個數字(不會重複):5621\n",
            "5621:1A0B\n",
            "請輸入四個數字(不會重複):7856\n",
            "7856:0A3B\n",
            "請輸入四個數字(不會重複):5789\n",
            "5789:4A0B\n",
            "答對了!總共猜了 4 次!\n"
          ]
        }
      ]
    }
  ]
}