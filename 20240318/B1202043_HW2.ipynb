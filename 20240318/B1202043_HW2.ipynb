{
  "nbformat": 4,
  "nbformat_minor": 0,
  "metadata": {
    "colab": {
      "provenance": []
    },
    "kernelspec": {
      "name": "python3",
      "display_name": "Python 3"
    },
    "language_info": {
      "name": "python"
    }
  },
  "cells": [
    {
      "cell_type": "code",
      "execution_count": 3,
      "metadata": {
        "id": "GdhwB0tcfNqf",
        "colab": {
          "base_uri": "https://localhost:8080/"
        },
        "outputId": "ad40ac2d-19b2-4cbd-c7c9-77126616cf01"
      },
      "outputs": [
        {
          "output_type": "stream",
          "name": "stdout",
          "text": [
            "A\n",
            "['K', 'H', 'U']\n"
          ]
        }
      ],
      "source": [
        "a='C,B,A'\n",
        "b=['F','G','H']\n",
        "str1=a.split(\",\")\n",
        "str2=str1+b\n",
        "str2[0]=('K')\n",
        "f=str2.pop(2)\n",
        "print(f)\n",
        "\n",
        "f=list(str2)\n",
        "del f[1:4]\n",
        "f.extend('U')\n",
        "print(f)"
      ]
    },
    {
      "cell_type": "code",
      "source": [
        "a=input(\"請輸入八位數字:\")\n",
        "b=str(a)\n",
        "\n",
        "print(b[4])"
      ],
      "metadata": {
        "colab": {
          "base_uri": "https://localhost:8080/"
        },
        "id": "YTgUOQ1Ph__E",
        "outputId": "db18eff9-fd0e-45e4-98f3-4e1159150d16"
      },
      "execution_count": null,
      "outputs": [
        {
          "output_type": "stream",
          "name": "stdout",
          "text": [
            "請輸入八位數字:12345678\n",
            "5\n"
          ]
        }
      ]
    },
    {
      "cell_type": "code",
      "source": [
        "a='My ID is B1202043'\n",
        "b=a.split(' ')\n",
        "c=b[3]\n",
        "print(len(b))\n",
        "print(len(c))"
      ],
      "metadata": {
        "colab": {
          "base_uri": "https://localhost:8080/"
        },
        "id": "gwl63f1rh-cD",
        "outputId": "e227b0ae-cbaf-4ded-acd2-fe036f8682cd"
      },
      "execution_count": null,
      "outputs": [
        {
          "output_type": "stream",
          "name": "stdout",
          "text": [
            "4\n",
            "8\n"
          ]
        }
      ]
    },
    {
      "cell_type": "code",
      "source": [
        "a=\"i'm a student\"\n",
        "a.split(\" \")\n",
        "a[2].split(\"/'\")\n",
        "print(str(a[2]))\n"
      ],
      "metadata": {
        "colab": {
          "base_uri": "https://localhost:8080/"
        },
        "id": "R0lDGuGah-kz",
        "outputId": "05c3333a-4ff9-4c01-d2a6-2c12f185fa69"
      },
      "execution_count": 1,
      "outputs": [
        {
          "output_type": "stream",
          "name": "stdout",
          "text": [
            "m\n"
          ]
        }
      ]
    }
  ]
}