{
  "nbformat": 4,
  "nbformat_minor": 0,
  "metadata": {
    "colab": {
      "provenance": []
    },
    "kernelspec": {
      "name": "python3",
      "display_name": "Python 3"
    },
    "language_info": {
      "name": "python"
    }
  },
  "cells": [
    {
      "cell_type": "code",
      "execution_count": 10,
      "metadata": {
        "id": "CdA1wK18fDT8",
        "colab": {
          "base_uri": "https://localhost:8080/"
        },
        "outputId": "d8ba147d-b6b3-4682-e9e8-de74cd1980e6"
      },
      "outputs": [
        {
          "output_type": "stream",
          "name": "stdout",
          "text": [
            "88.33333333333333\n",
            "{'姓名': '賴宏瑋', '性別': '男', '學號': 'M1129020'}\n",
            "95.0\n",
            "{'姓名': '許珈綺', '性別': '女', '學號': 'M1229001'}\n"
          ]
        }
      ],
      "source": [
        "a={'姓名':'賴宏瑋','性別':'男','作業分數':[95,100,90]}\n",
        "b={'學號':'M1129020'}\n",
        "c={**a,**b}\n",
        "import copy\n",
        "d=copy.deepcopy(c)\n",
        "c['作業分數'][1]=80\n",
        "d['姓名']='許珈綺'\n",
        "d['性別']='女'\n",
        "d['學號']='M1229001'\n",
        "\n",
        "z=c.pop('作業分數')\n",
        "ave1=sum(z)/len(z)\n",
        "\n",
        "y=d.pop('作業分數')\n",
        "ave2=sum(y)/len(y)\n",
        "\n",
        "print(ave1)\n",
        "print(c)\n",
        "print(ave2)\n",
        "print(d)"
      ]
    },
    {
      "cell_type": "code",
      "source": [
        "a=[100,50,45,60,90,95,80,50]\n",
        "a.insert(0,88)\n",
        "a[4:6]=[70,50]\n",
        "a.remove(50)\n",
        "b=a.pop(0)\n",
        "c=a.pop()\n",
        "\n",
        "print(b+c)"
      ],
      "metadata": {
        "colab": {
          "base_uri": "https://localhost:8080/"
        },
        "id": "7mln0YFJl8OK",
        "outputId": "9a823533-fe82-4756-8bd3-9a8847e2706d"
      },
      "execution_count": 18,
      "outputs": [
        {
          "output_type": "stream",
          "name": "stdout",
          "text": [
            "138\n"
          ]
        }
      ]
    },
    {
      "cell_type": "code",
      "source": [
        "print('A:',347//3)\n",
        "print('B:',347%3)\n",
        "a=347\n",
        "a//=3\n",
        "\n",
        "b=347\n",
        "b%=3\n",
        "\n",
        "print(a**b)"
      ],
      "metadata": {
        "colab": {
          "base_uri": "https://localhost:8080/"
        },
        "id": "puTpOu2gmtLJ",
        "outputId": "3ee9a5ba-dfa6-47c8-b943-f54c5a73c9d7"
      },
      "execution_count": 14,
      "outputs": [
        {
          "output_type": "stream",
          "name": "stdout",
          "text": [
            "A: 115\n",
            "B: 2\n",
            "13225\n"
          ]
        }
      ]
    }
  ]
}