{
  "nbformat": 4,
  "nbformat_minor": 0,
  "metadata": {
    "colab": {
      "provenance": []
    },
    "kernelspec": {
      "name": "python3",
      "display_name": "Python 3"
    },
    "language_info": {
      "name": "python"
    }
  },
  "cells": [
    {
      "cell_type": "code",
      "execution_count": null,
      "metadata": {
        "colab": {
          "base_uri": "https://localhost:8080/"
        },
        "id": "sx1mJiep1kJO",
        "outputId": "b7a7c6d8-bef6-4ec8-ec32-02215a1ce4e7"
      },
      "outputs": [
        {
          "output_type": "stream",
          "name": "stdout",
          "text": [
            "聖誕樹層數:8\n",
            "        *\n",
            "       ***\n",
            "      *****\n",
            "     *******\n",
            "    *********\n",
            "   ***********\n",
            "  *************\n",
            " ***************\n",
            "       ***\n",
            "       ***\n",
            "       ***\n",
            "       ***\n",
            "       ***\n"
          ]
        }
      ],
      "source": [
        "a=int(input('聖誕樹層數:'))\n",
        "for i in range(a):\n",
        "  print((' '*(a-i)+('*')*((2*i)+1)))\n",
        "b=5\n",
        "for i in range(b):\n",
        "  print((' '*(a-1))+('*'*3))"
      ]
    },
    {
      "cell_type": "code",
      "source": [
        " try:\n",
        "  h = float(input(\"請輸入你的身高(cm)：\"))\n",
        "  w = float(input(\"請輸入你的體重(kg)：\"))\n",
        "except ValueError:\n",
        "    print(\"輸入內容錯誤\")\n",
        "    exit()\n",
        "\n",
        "def BMI(h,w):\n",
        "  h=h/100\n",
        "  h*=h\n",
        "  BMI=w/h\n",
        "  return BMI\n",
        "\n",
        "def cal_BMI(BMI):\n",
        "  if BMI<18.5:\n",
        "    return \"體位：過輕\"\n",
        "  elif BMI>=18.5 and BMI<24:\n",
        "    return \"體位：適中\"\n",
        "  elif BMI>24 and BMI<27:\n",
        "    return \"體位：過重\"\n",
        "  else:\n",
        "    return \"體位：肥胖\"\n",
        "\n",
        "try:\n",
        "  bmi=BMI(h,w)\n",
        "  calculate=cal_BMI(bmi)\n",
        "  print(bmi)\n",
        "  print(calculate)\n",
        "except:\n",
        "  exit()"
      ],
      "metadata": {
        "colab": {
          "base_uri": "https://localhost:8080/"
        },
        "id": "czlwE0Y-3BRX",
        "outputId": "bccb6003-ddee-4988-e731-de5b03b5ca8d"
      },
      "execution_count": 1,
      "outputs": [
        {
          "output_type": "stream",
          "name": "stdout",
          "text": [
            "請輸入你的身高(cm)：180\n",
            "請輸入你的體重(kg)：70\n",
            "21.604938271604937\n",
            "體位：適中\n"
          ]
        }
      ]
    }
  ]
}