{
  "nbformat": 4,
  "nbformat_minor": 0,
  "metadata": {
    "colab": {
      "provenance": []
    },
    "kernelspec": {
      "name": "python3",
      "display_name": "Python 3"
    },
    "language_info": {
      "name": "python"
    }
  },
  "cells": [
    {
      "cell_type": "code",
      "execution_count": 4,
      "metadata": {
        "colab": {
          "base_uri": "https://localhost:8080/"
        },
        "id": "2MYVFYXMj4FA",
        "outputId": "1571aac5-2b06-4ac5-cb34-6a2d0580c4fa"
      },
      "outputs": [
        {
          "output_type": "stream",
          "name": "stdout",
          "text": [
            "輸入身高（公分）:160\n",
            "輸入體重:55\n",
            "BMI: 21\n",
            "適中\n"
          ]
        }
      ],
      "source": [
        "h = float(input(\"輸入身高（公分）:\"))\n",
        "w = float(input(\"輸入體重:\"))\n",
        "h = h/100\n",
        "h*=h\n",
        "BMI=w/h\n",
        "print(\"BMI:\",int(BMI))\n",
        "\n",
        "if BMI<18.5:\n",
        "  print('過輕')\n",
        "elif BMI>=18.5 and BMI<24:\n",
        "  print('適中')\n",
        "elif BMI>=24 and BMI<27:\n",
        "  print('過重')\n",
        "else:\n",
        "  print('肥胖')"
      ]
    },
    {
      "cell_type": "code",
      "source": [
        "a=float(input(\"請輸入第一個數字:\"))\n",
        "s=input(\"請輸入運算符號:\")\n",
        "b=float(input(\"請輸入第二個數字:\"))\n",
        "\n",
        "if s==\"+\":\n",
        "  print(a+b)\n",
        "elif s==\"-\":\n",
        "  print(a-b)\n",
        "elif s==\"*\":\n",
        "  print(a*b)\n",
        "else:\n",
        "  print(a/b)"
      ],
      "metadata": {
        "colab": {
          "base_uri": "https://localhost:8080/"
        },
        "id": "CJ_ubgvdn-fb",
        "outputId": "c98ede21-9cab-4dd2-8eb2-09f9cd2a3f9a"
      },
      "execution_count": 18,
      "outputs": [
        {
          "output_type": "stream",
          "name": "stdout",
          "text": [
            "請輸入第一個數字:2\n",
            "請輸入運算符號:+\n",
            "請輸入第二個數字:3\n",
            "5.0\n"
          ]
        }
      ]
    }
  ]
}