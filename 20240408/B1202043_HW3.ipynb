{
  "nbformat": 4,
  "nbformat_minor": 0,
  "metadata": {
    "colab": {
      "provenance": []
    },
    "kernelspec": {
      "name": "python3",
      "display_name": "Python 3"
    },
    "language_info": {
      "name": "python"
    }
  },
  "cells": [
    {
      "cell_type": "code",
      "execution_count": 12,
      "metadata": {
        "colab": {
          "base_uri": "https://localhost:8080/"
        },
        "id": "F6BOKfqVsixf",
        "outputId": "495c5847-7576-45d4-b556-80f65f4ef4f9"
      },
      "outputs": [
        {
          "output_type": "stream",
          "name": "stdout",
          "text": [
            "請輸入年分:1600\n",
            "閏年\n"
          ]
        }
      ],
      "source": [
        "a= float(input(\"請輸入年分:\"))\n",
        "\n",
        "if a<=1582 and a%4==0:\n",
        "  print(\"閏年\")\n",
        "elif a>1582 and a%4==0 and a%100!=0:\n",
        "  print(\"閏年\")\n",
        "elif a%400==0:\n",
        "  print(\"閏年\")\n",
        "else:\n",
        "  print(\"平年\")"
      ]
    }
  ]
}