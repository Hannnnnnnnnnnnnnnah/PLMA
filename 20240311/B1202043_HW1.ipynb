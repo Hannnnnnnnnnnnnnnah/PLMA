{
  "nbformat": 4,
  "nbformat_minor": 0,
  "metadata": {
    "colab": {
      "provenance": []
    },
    "kernelspec": {
      "name": "python3",
      "display_name": "Python 3"
    },
    "language_info": {
      "name": "python"
    }
  },
  "cells": [
    {
      "cell_type": "code",
      "execution_count": 2,
      "metadata": {
        "colab": {
          "base_uri": "https://localhost:8080/"
        },
        "id": "i4oL5EKSgFQG",
        "outputId": "6e2e9896-22f5-4aa2-9dd8-19f20da29b74"
      },
      "outputs": [
        {
          "output_type": "stream",
          "name": "stdout",
          "text": [
            "I'm a student\n"
          ]
        }
      ],
      "source": [
        "a=\"I'm a student\"\n",
        "print(a)"
      ]
    },
    {
      "cell_type": "code",
      "source": [],
      "metadata": {
        "id": "JSnpQmmzggbG"
      },
      "execution_count": null,
      "outputs": []
    },
    {
      "cell_type": "code",
      "source": [
        "x1= float(input(\"請輸入A(x1,y1):\"))\n",
        "y1= float(input())\n",
        "x2= float(input(\"請輸入B(x2,y2)：\"))\n",
        "y2= float(input())\n",
        "\n",
        "distance = ((x2 - x1)**2 + (y2 - y1)**2)**0.5\n",
        "\n",
        "print(\"AB之間的距離為：\", distance)"
      ],
      "metadata": {
        "colab": {
          "base_uri": "https://localhost:8080/"
        },
        "id": "DXVMaQ46hSWt",
        "outputId": "1398796c-4a5e-4cbe-bfb0-0bce06e44745"
      },
      "execution_count": 19,
      "outputs": [
        {
          "output_type": "stream",
          "name": "stdout",
          "text": [
            "請輸入A(x1,y1):0\n",
            "0\n",
            "請輸入B(x2,y2)：3\n",
            "4\n",
            "AB之間的距離為： 5.0\n"
          ]
        }
      ]
    },
    {
      "cell_type": "code",
      "source": [
        "h = float(input(\"輸入身高（公分）:\"))\n",
        "w = float(input(\"輸入體重:\"))\n",
        "h = h/100\n",
        "h*=h\n",
        "BMI=w/h\n",
        "print(int(BMI))\n"
      ],
      "metadata": {
        "colab": {
          "base_uri": "https://localhost:8080/"
        },
        "id": "NS9ZAGHUwpXA",
        "outputId": "8cf4e35d-e765-4222-b6d7-eb6d02858cac"
      },
      "execution_count": 16,
      "outputs": [
        {
          "output_type": "stream",
          "name": "stdout",
          "text": [
            "輸入身高（公分）:160\n",
            "輸入體重:50\n",
            "19\n"
          ]
        }
      ]
    }
  ]
}